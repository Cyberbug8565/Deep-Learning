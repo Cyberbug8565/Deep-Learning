{
 "cells": [
  {
   "cell_type": "code",
   "execution_count": 122,
   "id": "ab9da94a",
   "metadata": {},
   "outputs": [],
   "source": [
    "import numpy as np \n",
    "import pandas as pd"
   ]
  },
  {
   "cell_type": "code",
   "execution_count": 123,
   "id": "a5f1e0dc",
   "metadata": {},
   "outputs": [],
   "source": [
    "df = pd.DataFrame([[8,8,1],[7,9,1],[6,10,0],[5,5,0]], columns=['cgpa', 'profile_score', 'placed'])"
   ]
  },
  {
   "cell_type": "code",
   "execution_count": 124,
   "id": "cefef875",
   "metadata": {},
   "outputs": [],
   "source": [
    "df1 = pd.DataFrame([[8,8,1],[7,9,1],[6,10,0],[5,5,0]], columns=['cgpa', 'profile_score', 'placed'])"
   ]
  },
  {
   "cell_type": "code",
   "execution_count": 125,
   "id": "c0f0b9fe",
   "metadata": {},
   "outputs": [
    {
     "data": {
      "text/html": [
       "<div>\n",
       "<style scoped>\n",
       "    .dataframe tbody tr th:only-of-type {\n",
       "        vertical-align: middle;\n",
       "    }\n",
       "\n",
       "    .dataframe tbody tr th {\n",
       "        vertical-align: top;\n",
       "    }\n",
       "\n",
       "    .dataframe thead th {\n",
       "        text-align: right;\n",
       "    }\n",
       "</style>\n",
       "<table border=\"1\" class=\"dataframe\">\n",
       "  <thead>\n",
       "    <tr style=\"text-align: right;\">\n",
       "      <th></th>\n",
       "      <th>cgpa</th>\n",
       "      <th>profile_score</th>\n",
       "      <th>placed</th>\n",
       "    </tr>\n",
       "  </thead>\n",
       "  <tbody>\n",
       "    <tr>\n",
       "      <th>0</th>\n",
       "      <td>8</td>\n",
       "      <td>8</td>\n",
       "      <td>1</td>\n",
       "    </tr>\n",
       "    <tr>\n",
       "      <th>1</th>\n",
       "      <td>7</td>\n",
       "      <td>9</td>\n",
       "      <td>1</td>\n",
       "    </tr>\n",
       "    <tr>\n",
       "      <th>2</th>\n",
       "      <td>6</td>\n",
       "      <td>10</td>\n",
       "      <td>0</td>\n",
       "    </tr>\n",
       "    <tr>\n",
       "      <th>3</th>\n",
       "      <td>5</td>\n",
       "      <td>5</td>\n",
       "      <td>0</td>\n",
       "    </tr>\n",
       "  </tbody>\n",
       "</table>\n",
       "</div>"
      ],
      "text/plain": [
       "   cgpa  profile_score  placed\n",
       "0     8              8       1\n",
       "1     7              9       1\n",
       "2     6             10       0\n",
       "3     5              5       0"
      ]
     },
     "execution_count": 125,
     "metadata": {},
     "output_type": "execute_result"
    }
   ],
   "source": [
    "df.head()"
   ]
  },
  {
   "cell_type": "code",
   "execution_count": 126,
   "id": "0a7ff612",
   "metadata": {},
   "outputs": [],
   "source": [
    "def initialize_parameters(layer_dims):\n",
    "    np.random.seed(3)\n",
    "    parameters = {}\n",
    "    L = len(layer_dims)\n",
    "    for l in range(1, L):\n",
    "        parameters['W' + str(l)]= np.ones((layer_dims[l-1], layer_dims[l]))*0.1\n",
    "        parameters['b' + str(l)]= np.zeros((layer_dims[l],1))\n",
    "    return parameters  "
   ]
  },
  {
   "cell_type": "code",
   "execution_count": 127,
   "id": "386389be",
   "metadata": {},
   "outputs": [],
   "source": [
    "def sigmoid(Z):\n",
    "    A = 1/(1+np.exp(-Z))\n",
    "    return A"
   ]
  },
  {
   "cell_type": "code",
   "execution_count": 128,
   "id": "e08e543f",
   "metadata": {},
   "outputs": [],
   "source": [
    "def linear_forwardn(A_prev, W, b):\n",
    "    Z = np.dot(W.T, A_prev) + b\n",
    "    A = sigmoid(Z)\n",
    "    return A"
   ]
  },
  {
   "cell_type": "code",
   "execution_count": 129,
   "id": "771c3107",
   "metadata": {},
   "outputs": [],
   "source": [
    "def linear_forward(A_prev, W, b):\n",
    "    Z = np.dot(W.T, A_prev) + b\n",
    "    return Z"
   ]
  },
  {
   "cell_type": "code",
   "execution_count": 130,
   "id": "e8646173",
   "metadata": {},
   "outputs": [],
   "source": [
    "# Forward Prop\n",
    "def L_layer_forward(X, parameters):\n",
    "\n",
    "  A = X\n",
    "  L = len(parameters) // 2                  # number of layers in the neural network\n",
    "  \n",
    "  for l in range(1, L+1):\n",
    "    A_prev = A \n",
    "    Wl = parameters['W' + str(l)]\n",
    "    bl = parameters['b' + str(l)]\n",
    "    #print(\"A\"+str(l-1)+\": \", A_prev)\n",
    "    #print(\"W\"+str(l)+\": \", Wl)\n",
    "    #print(\"b\"+str(l)+\": \", bl)\n",
    "    #print(\"--\"*20)\n",
    "\n",
    "    A = linear_forward(A_prev, Wl, bl)\n",
    "    #print(\"A\"+str(l)+\": \", A)\n",
    "    #print(\"**\"*20)\n",
    "          \n",
    "  return A,A_prev"
   ]
  },
  {
   "cell_type": "code",
   "execution_count": 131,
   "id": "018727a6",
   "metadata": {},
   "outputs": [],
   "source": [
    "# Forward Prop\n",
    "def L_layer_forwardn(X, parameters):\n",
    "\n",
    "  A = X\n",
    "  L = len(parameters) // 2                  # number of layers in the neural network\n",
    "  \n",
    "  for l in range(1, L+1):\n",
    "    A_prev = A \n",
    "    Wl = parameters['W' + str(l)]\n",
    "    bl = parameters['b' + str(l)]\n",
    "    #print(\"A\"+str(l-1)+\": \", A_prev)\n",
    "    #print(\"W\"+str(l)+\": \", Wl)\n",
    "    #print(\"b\"+str(l)+\": \", bl)\n",
    "    #print(\"--\"*20)\n",
    "\n",
    "    A = linear_forwardn(A_prev, Wl, bl)\n",
    "    #print(\"A\"+str(l)+\": \", A)\n",
    "    #print(\"**\"*20)\n",
    "          \n",
    "  return A,A_prev"
   ]
  },
  {
   "cell_type": "code",
   "execution_count": 132,
   "id": "5aa3dbb2",
   "metadata": {},
   "outputs": [],
   "source": [
    "def update_parameters(parameters,y,y_hat,A1,X):\n",
    "  parameters['W2'][0][0] = parameters['W2'][0][0] + (0.001 * 2 * (y - y_hat)*A1[0][0])\n",
    "  parameters['W2'][1][0] = parameters['W2'][1][0] + (0.001 * 2 * (y - y_hat)*A1[1][0])\n",
    "  parameters['b2'][0][0] = parameters['W2'][1][0] + (0.001 * 2 * (y - y_hat))\n",
    "\n",
    "  parameters['W1'][0][0] = parameters['W1'][0][0] + (0.001 * 2 * (y - y_hat)*parameters['W2'][0][0]*X[0][0])\n",
    "  parameters['W1'][0][1] = parameters['W1'][0][1] + (0.001 * 2 * (y - y_hat)*parameters['W2'][0][0]*X[1][0])\n",
    "  parameters['b1'][0][0] = parameters['b1'][0][0] + (0.001 * 2 * (y - y_hat)*parameters['W2'][0][0])\n",
    "\n",
    "  parameters['W1'][1][0] = parameters['W1'][1][0] + (0.001 * 2 * (y - y_hat)*parameters['W2'][1][0]*X[0][0])\n",
    "  parameters['W1'][1][1] = parameters['W1'][1][1] + (0.001 * 2 * (y - y_hat)*parameters['W2'][1][0]*X[1][0])\n",
    "  parameters['b1'][1][0] = parameters['b1'][1][0] + (0.001 * 2 * (y - y_hat)*parameters['W2'][1][0])"
   ]
  },
  {
   "cell_type": "code",
   "execution_count": 133,
   "id": "5eb1f76e",
   "metadata": {},
   "outputs": [],
   "source": [
    "def update_parameters(parameters,y,y_hat,A1,X):\n",
    "  parameters['W2'][0][0] = parameters['W2'][0][0] + (0.0001 * (y - y_hat)*A1[0][0])\n",
    "  parameters['W2'][1][0] = parameters['W2'][1][0] + (0.0001 * (y - y_hat)*A1[1][0])\n",
    "  parameters['b2'][0][0] = parameters['W2'][1][0] + (0.0001 * (y - y_hat))\n",
    "\n",
    "  parameters['W1'][0][0] = parameters['W1'][0][0] + (0.0001 * (y - y_hat)*parameters['W2'][0][0]*A1[0][0]*(1-A1[0][0])*X[0][0])\n",
    "  parameters['W1'][0][1] = parameters['W1'][0][1] + (0.0001 * (y - y_hat)*parameters['W2'][0][0]*A1[0][0]*(1-A1[0][0])*X[1][0])\n",
    "  parameters['b1'][0][0] = parameters['b1'][0][0] + (0.0001 * (y - y_hat)*parameters['W2'][0][0]*A1[0][0]*(1-A1[0][0]))\n",
    "\n",
    "  parameters['W1'][1][0] = parameters['W1'][1][0] + (0.0001 * (y - y_hat)*parameters['W2'][1][0]*A1[1][0]*(1-A1[1][0])*X[0][0])\n",
    "  parameters['W1'][1][1] = parameters['W1'][1][1] + (0.0001 * (y - y_hat)*parameters['W2'][1][0]*A1[1][0]*(1-A1[1][0])*X[1][0])\n",
    "  parameters['b1'][1][0] = parameters['b1'][1][0] + (0.0001 * (y - y_hat)*parameters['W2'][1][0]*A1[1][0]*(1-A1[1][0]))"
   ]
  },
  {
   "cell_type": "code",
   "execution_count": 134,
   "id": "1d68a086",
   "metadata": {},
   "outputs": [],
   "source": [
    "X=df[['cgpa', 'profile_score']].values[0].reshape(2,1)\n",
    "y= df[['placed']].values[0][0]\n",
    "\n",
    "X1=df1[['cgpa', 'profile_score']].values[0].reshape(2,1)\n",
    "y1= df1[['placed']].values[0][0]\n",
    "\n",
    "parameters= initialize_parameters([2,2,1])\n",
    "y_hat,A1 = L_layer_forward(X,parameters)\n",
    "y_hat1,A11 = L_layer_forwardn(X1,parameters)"
   ]
  },
  {
   "cell_type": "code",
   "execution_count": 135,
   "id": "e2cc6042",
   "metadata": {},
   "outputs": [],
   "source": [
    "parameters= initialize_parameters([2,2,1])"
   ]
  },
  {
   "cell_type": "code",
   "execution_count": 136,
   "id": "a34dcd00",
   "metadata": {},
   "outputs": [
    {
     "data": {
      "text/plain": [
       "{'W1': array([[0.1, 0.1],\n",
       "        [0.1, 0.1]]),\n",
       " 'b1': array([[0.],\n",
       "        [0.]]),\n",
       " 'W2': array([[0.1],\n",
       "        [0.1]]),\n",
       " 'b2': array([[0.]])}"
      ]
     },
     "execution_count": 136,
     "metadata": {},
     "output_type": "execute_result"
    }
   ],
   "source": [
    "parameters"
   ]
  },
  {
   "cell_type": "code",
   "execution_count": 137,
   "id": "39df872d",
   "metadata": {},
   "outputs": [
    {
     "data": {
      "text/plain": [
       "(array([[0.32]]),\n",
       " array([[1.6],\n",
       "        [1.6]]))"
      ]
     },
     "execution_count": 137,
     "metadata": {},
     "output_type": "execute_result"
    }
   ],
   "source": [
    "y_hat,A1"
   ]
  },
  {
   "cell_type": "code",
   "execution_count": 138,
   "id": "1b2f867e",
   "metadata": {},
   "outputs": [
    {
     "data": {
      "text/plain": [
       "(array([[0.54150519]]),\n",
       " array([[0.83201839],\n",
       "        [0.83201839]]))"
      ]
     },
     "execution_count": 138,
     "metadata": {},
     "output_type": "execute_result"
    }
   ],
   "source": [
    "y_hat1,A11"
   ]
  },
  {
   "cell_type": "code",
   "execution_count": 139,
   "id": "fd9514ef",
   "metadata": {},
   "outputs": [
    {
     "name": "stdout",
     "output_type": "stream",
     "text": [
      "Epoch -  1 Loss -  0.2663555135529325\n",
      "Epoch -  2 Loss -  0.2348080560708281\n",
      "Epoch -  3 Loss -  0.23476151967276615\n",
      "Epoch -  4 Loss -  0.23471521177139515\n",
      "Epoch -  5 Loss -  0.23466913088970426\n"
     ]
    },
    {
     "data": {
      "text/plain": [
       "{'W1': array([[0.09969652, 0.0997215 ],\n",
       "        [0.09969638, 0.09972133]]),\n",
       " 'b1': array([[-3.63841483e-05],\n",
       "        [-3.64031068e-05]]),\n",
       " 'W2': array([[0.1004557 ],\n",
       "        [0.10045577]]),\n",
       " 'b2': array([[0.10042569]])}"
      ]
     },
     "execution_count": 139,
     "metadata": {},
     "output_type": "execute_result"
    }
   ],
   "source": [
    "parameters = initialize_parameters([2,2,1])\n",
    "epochs = 5\n",
    "\n",
    "for i in range(epochs):\n",
    "\n",
    "  Loss = []\n",
    "\n",
    "  for j in range(df.shape[0]):\n",
    "\n",
    "    X = df[['cgpa', 'profile_score']].values[j].reshape(2,1) # Shape(no of features, no. of training example)\n",
    "    y = df[['placed']].values[j][0]\n",
    "\n",
    "    # Parameter initialization\n",
    "\n",
    "\n",
    "    y_hat,A1 = L_layer_forward(X,parameters)\n",
    "    y_hat = y_hat[0][0]\n",
    "\n",
    "    update_parameters(parameters,y,y_hat,A1,X)\n",
    "\n",
    "    Loss.append((y-y_hat)**2)\n",
    "\n",
    "  print('Epoch - ',i+1,'Loss - ',np.array(Loss).mean())\n",
    "\n",
    "parameters"
   ]
  },
  {
   "cell_type": "code",
   "execution_count": 140,
   "id": "7d208e49",
   "metadata": {},
   "outputs": [
    {
     "name": "stdout",
     "output_type": "stream",
     "text": [
      "Epoch -  1 Loss -  0.7272094688603609\n",
      "Epoch -  2 Loss -  0.6591359478931171\n",
      "Epoch -  3 Loss -  0.6590477313626301\n",
      "Epoch -  4 Loss -  0.6589599674625288\n",
      "Epoch -  5 Loss -  0.6588726531338515\n",
      "Epoch -  6 Loss -  0.6587857853429255\n",
      "Epoch -  7 Loss -  0.6586993610811188\n",
      "Epoch -  8 Loss -  0.6586133773645956\n",
      "Epoch -  9 Loss -  0.6585278312340734\n",
      "Epoch -  10 Loss -  0.6584427197545836\n",
      "Epoch -  11 Loss -  0.6583580400152345\n",
      "Epoch -  12 Loss -  0.6582737891289767\n",
      "Epoch -  13 Loss -  0.6581899642323725\n",
      "Epoch -  14 Loss -  0.6581065624853655\n",
      "Epoch -  15 Loss -  0.6580235810710551\n",
      "Epoch -  16 Loss -  0.6579410171954725\n",
      "Epoch -  17 Loss -  0.6578588680873589\n",
      "Epoch -  18 Loss -  0.6577771309979471\n",
      "Epoch -  19 Loss -  0.6576958032007443\n",
      "Epoch -  20 Loss -  0.6576148819913188\n",
      "Epoch -  21 Loss -  0.6575343646870879\n",
      "Epoch -  22 Loss -  0.6574542486271084\n",
      "Epoch -  23 Loss -  0.6573745311718705\n",
      "Epoch -  24 Loss -  0.6572952097030917\n",
      "Epoch -  25 Loss -  0.6572162816235155\n",
      "Epoch -  26 Loss -  0.6571377443567104\n",
      "Epoch -  27 Loss -  0.6570595953468724\n",
      "Epoch -  28 Loss -  0.6569818320586291\n",
      "Epoch -  29 Loss -  0.6569044519768455\n",
      "Epoch -  30 Loss -  0.6568274526064335\n",
      "Epoch -  31 Loss -  0.6567508314721612\n",
      "Epoch -  32 Loss -  0.6566745861184665\n",
      "Epoch -  33 Loss -  0.6565987141092713\n",
      "Epoch -  34 Loss -  0.656523213027798\n",
      "Epoch -  35 Loss -  0.6564480804763889\n",
      "Epoch -  36 Loss -  0.6563733140763259\n",
      "Epoch -  37 Loss -  0.6562989114676542\n",
      "Epoch -  38 Loss -  0.6562248703090059\n",
      "Epoch -  39 Loss -  0.6561511882774266\n",
      "Epoch -  40 Loss -  0.6560778630682045\n",
      "Epoch -  41 Loss -  0.6560048923946992\n",
      "Epoch -  42 Loss -  0.655932273988175\n",
      "Epoch -  43 Loss -  0.6558600055976336\n",
      "Epoch -  44 Loss -  0.6557880849896511\n",
      "Epoch -  45 Loss -  0.6557165099482133\n",
      "Epoch -  46 Loss -  0.6556452782745568\n",
      "Epoch -  47 Loss -  0.6555743877870088\n",
      "Epoch -  48 Loss -  0.6555038363208296\n",
      "Epoch -  49 Loss -  0.6554336217280574\n",
      "Epoch -  50 Loss -  0.6553637418773532\n"
     ]
    },
    {
     "data": {
      "text/plain": [
       "{'W1': array([[0.09714987, 0.09740318],\n",
       "        [0.09713711, 0.09739131]]),\n",
       " 'b1': array([[-0.0003413 ],\n",
       "        [-0.00034276]]),\n",
       " 'W2': array([[0.10424659],\n",
       "        [0.10425213]]),\n",
       " 'b2': array([[0.10422142]])}"
      ]
     },
     "execution_count": 140,
     "metadata": {},
     "output_type": "execute_result"
    }
   ],
   "source": [
    "# epochs implementation\n",
    "\n",
    "parameters = initialize_parameters([2,2,1])\n",
    "epochs = 50\n",
    "\n",
    "for i in range(epochs):\n",
    "\n",
    "  Loss = []\n",
    "\n",
    "  for j in range(df.shape[0]):\n",
    "\n",
    "    X = df[['cgpa', 'profile_score']].values[j].reshape(2,1) # Shape(no of features, no. of training example)\n",
    "    y = df[['placed']].values[j][0]\n",
    "\n",
    "    # Parameter initialization\n",
    "\n",
    "\n",
    "    y_hat,A1 = L_layer_forward(X,parameters)\n",
    "    y_hat = y_hat[0][0]\n",
    "\n",
    "    update_parameters(parameters,y,y_hat,A1,X)\n",
    "\n",
    "    Loss.append(-y*np.log(y_hat) - (1-y)*np.log(1-y_hat))\n",
    "\n",
    "  print('Epoch - ',i+1,'Loss - ',np.array(Loss).mean())\n",
    "\n",
    "parameters"
   ]
  }
 ],
 "metadata": {
  "kernelspec": {
   "display_name": "Python 3 (ipykernel)",
   "language": "python",
   "name": "python3"
  },
  "language_info": {
   "codemirror_mode": {
    "name": "ipython",
    "version": 3
   },
   "file_extension": ".py",
   "mimetype": "text/x-python",
   "name": "python",
   "nbconvert_exporter": "python",
   "pygments_lexer": "ipython3",
   "version": "3.11.5"
  }
 },
 "nbformat": 4,
 "nbformat_minor": 5
}
